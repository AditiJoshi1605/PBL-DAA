{
 "cells": [
  {
   "cell_type": "code",
   "execution_count": 1,
   "id": "9a6f7035-2e96-488e-965e-19f1d1927131",
   "metadata": {},
   "outputs": [],
   "source": [
    "import pandas as pd\n",
    "import numpy  as np\n",
    "import ast\n",
    "import nltk\n",
    "from nltk.stem.porter import PorterStemmer"
   ]
  },
  {
   "cell_type": "code",
   "execution_count": 2,
   "id": "375086bf-3a6c-4765-bcb3-acae6d7d7adb",
   "metadata": {},
   "outputs": [
    {
     "data": {
      "text/plain": [
       "0"
      ]
     },
     "execution_count": 2,
     "metadata": {},
     "output_type": "execute_result"
    }
   ],
   "source": [
    "bus = pd.read_csv('../assets/bus_routes.csv')\n",
    "bus.duplicated().sum()"
   ]
  },
  {
   "cell_type": "code",
   "execution_count": 3,
   "id": "d5b01666-d350-47fd-a44d-33bd34d801d8",
   "metadata": {},
   "outputs": [],
   "source": [
    "# Normalize text in 'Driver_Name' and 'Route' columns\n",
    "bus['Driver_Name'] = bus['Driver_Name'].str.lower().str.strip()\n",
    "bus['Route'] = bus['Route'].str.lower().str.strip()\n"
   ]
  },
  {
   "cell_type": "code",
   "execution_count": 4,
   "id": "6eecd59b-767a-49ee-bbb4-71368188bdf0",
   "metadata": {},
   "outputs": [],
   "source": [
    "# Function to convert route strings into lists of stops\n",
    "def convert(route):\n",
    "    \"\"\"Convert a route string into a list of stops\"\"\"\n",
    "    if not isinstance(route, str):\n",
    "        return []\n",
    "    \n",
    "    stops = [stop.strip() for stop in route.split('-')]\n",
    "    return stops\n"
   ]
  },
  {
   "cell_type": "code",
   "execution_count": 5,
   "id": "65e2f0bc-bc80-491b-95c3-14a2d2cac0f5",
   "metadata": {},
   "outputs": [],
   "source": [
    "bus['Route'] = bus['Route'].apply(convert)"
   ]
  },
  {
   "cell_type": "code",
   "execution_count": 6,
   "id": "ce3b8b3f-56da-4496-9c45-2ce1663d45da",
   "metadata": {},
   "outputs": [
    {
     "name": "stdout",
     "output_type": "stream",
     "text": [
      "['clock tower', 'darshanlal chowk', 'saharanpur chowk', 'isbt dehradun', 'graphic era hill university', 'asley hall', 'matawala bagh', 'daudwala', 'mathurawala', 'vishnupuram', 'bangali kothi', 'kargi chowk', 'ranipokhri', 'doiwala', 'lachiwala', 'kuanwala', 'harawala', 'miawala', 'mokampur', 'jogiwala', 'rispana', 'gujraunwala', 'raipur chowk', 'dobhal chowk', '6 no. pulia', 'ring road', 'post office nehru gram', 'graphic era hill university/gehu', 'hathibadkala', 'garhi cant', 'vijay coloney', 'chir bagh', 'cm house', 'ongc chowk', 'ballupur chowk', 'gms road', 'rajender nagar', 'yamuna coloney', 'bindal pul', 'kishan nagar', 'blood bank', 'supply', 'it park dehradun', 'nala paani chowk', 'shastdhara crossing', 'ladpur', 'fountain chowk rispana', 'fountain chowk', 'nehru colony', 'kargi', 'nakrounda more', 'naya gaon palio', 'badowala', 'telpur', 'mehuwala', 'race course', 'dharampur', 'mata mandir', 'balbir road', 'rajpur', 'great value', 'dilaram bazar', 'nanni bakery dehradun', 'survey chowk', 'dwarka store', 'araghar', 'kulhal', 'vikasnagar', 'tehsil', 'harbatpur chowk', 'langa road', 'shaspur', 'selaqui', 'sudhowala', 'nanda ki chowki', 'premnagar', 'panditwari', 'vasant vihar', '', 'selaqui chowk', 'baliwala chowk', 'bahuwala raja road', 'raja road', 'bansiwala', 'manduwala', 'prem nagar', 'balliwalachowk']\n"
     ]
    }
   ],
   "source": [
    "# Can be used to see if user given destination is there in unique routes .\n",
    "unique_routes = [] \n",
    "for route_list in bus['Route']:\n",
    "    if isinstance(route_list, list):\n",
    "        for route in route_list:\n",
    "            if isinstance(route, str):\n",
    "                if route not in unique_routes:\n",
    "                    unique_routes.append(route)\n",
    "\n",
    "# Print the unique routes\n",
    "print(unique_routes)"
   ]
  },
  {
   "cell_type": "code",
   "execution_count": 7,
   "id": "246ec9f4-2fe2-42de-8666-6dca61c0a6f9",
   "metadata": {},
   "outputs": [
    {
     "data": {
      "text/html": [
       "<div>\n",
       "<style scoped>\n",
       "    .dataframe tbody tr th:only-of-type {\n",
       "        vertical-align: middle;\n",
       "    }\n",
       "\n",
       "    .dataframe tbody tr th {\n",
       "        vertical-align: top;\n",
       "    }\n",
       "\n",
       "    .dataframe thead th {\n",
       "        text-align: right;\n",
       "    }\n",
       "</style>\n",
       "<table border=\"1\" class=\"dataframe\">\n",
       "  <thead>\n",
       "    <tr style=\"text-align: right;\">\n",
       "      <th></th>\n",
       "      <th>S.No</th>\n",
       "      <th>Reg.No.</th>\n",
       "      <th>Bus_No</th>\n",
       "      <th>Shift_Timing</th>\n",
       "      <th>Driver_Name</th>\n",
       "      <th>Contact_No</th>\n",
       "      <th>Route</th>\n",
       "    </tr>\n",
       "  </thead>\n",
       "  <tbody>\n",
       "    <tr>\n",
       "      <th>0</th>\n",
       "      <td>1</td>\n",
       "      <td>UK07PA1699</td>\n",
       "      <td>9</td>\n",
       "      <td>7.00 AM 11.00 AM</td>\n",
       "      <td>arjun gurung</td>\n",
       "      <td>9557782210</td>\n",
       "      <td>[clock tower, darshanlal chowk, saharanpur cho...</td>\n",
       "    </tr>\n",
       "    <tr>\n",
       "      <th>1</th>\n",
       "      <td>2</td>\n",
       "      <td>UK07PA1696</td>\n",
       "      <td>18</td>\n",
       "      <td>7.00 AM 11.00 AM</td>\n",
       "      <td>sunil kumar iv</td>\n",
       "      <td>7060226291</td>\n",
       "      <td>[clock tower, darshanlal chowk, saharanpur cho...</td>\n",
       "    </tr>\n",
       "    <tr>\n",
       "      <th>2</th>\n",
       "      <td>3</td>\n",
       "      <td>UK07PA1691</td>\n",
       "      <td>24</td>\n",
       "      <td>7.00 AM 11.00 AM</td>\n",
       "      <td>m.r rama</td>\n",
       "      <td>8958990677</td>\n",
       "      <td>[clock tower, darshanlal chowk, saharanpur cho...</td>\n",
       "    </tr>\n",
       "    <tr>\n",
       "      <th>3</th>\n",
       "      <td>4</td>\n",
       "      <td>UK07PA3542</td>\n",
       "      <td>42</td>\n",
       "      <td>7.00 AM 11.00 AM</td>\n",
       "      <td>gudmohan</td>\n",
       "      <td>7060656243</td>\n",
       "      <td>[asley hall, clock tower, darshanlal chowk, sa...</td>\n",
       "    </tr>\n",
       "    <tr>\n",
       "      <th>4</th>\n",
       "      <td>5</td>\n",
       "      <td>UK07PA4816</td>\n",
       "      <td>64</td>\n",
       "      <td>7.00 AM 11.00 AM</td>\n",
       "      <td>hari singh</td>\n",
       "      <td>9410105794</td>\n",
       "      <td>[asley hall, clock tower, darshanlal chowk, sa...</td>\n",
       "    </tr>\n",
       "  </tbody>\n",
       "</table>\n",
       "</div>"
      ],
      "text/plain": [
       "   S.No     Reg.No.  Bus_No      Shift_Timing     Driver_Name  Contact_No  \\\n",
       "0     1  UK07PA1699       9  7.00 AM 11.00 AM    arjun gurung  9557782210   \n",
       "1     2  UK07PA1696      18  7.00 AM 11.00 AM  sunil kumar iv  7060226291   \n",
       "2     3  UK07PA1691      24  7.00 AM 11.00 AM        m.r rama  8958990677   \n",
       "3     4  UK07PA3542      42  7.00 AM 11.00 AM        gudmohan  7060656243   \n",
       "4     5  UK07PA4816      64  7.00 AM 11.00 AM      hari singh  9410105794   \n",
       "\n",
       "                                               Route  \n",
       "0  [clock tower, darshanlal chowk, saharanpur cho...  \n",
       "1  [clock tower, darshanlal chowk, saharanpur cho...  \n",
       "2  [clock tower, darshanlal chowk, saharanpur cho...  \n",
       "3  [asley hall, clock tower, darshanlal chowk, sa...  \n",
       "4  [asley hall, clock tower, darshanlal chowk, sa...  "
      ]
     },
     "execution_count": 7,
     "metadata": {},
     "output_type": "execute_result"
    }
   ],
   "source": [
    "df = pd.DataFrame(bus)\n",
    "df.head()"
   ]
  },
  {
   "cell_type": "code",
   "execution_count": 8,
   "id": "2e635cb6-6394-4f9f-ac62-2cdc584b8ee8",
   "metadata": {},
   "outputs": [
    {
     "name": "stdout",
     "output_type": "stream",
     "text": [
      "Total buses: 74\n"
     ]
    }
   ],
   "source": [
    "# Number of Locations\n",
    "print(f\"Total buses: {len(df)}\")"
   ]
  },
  {
   "cell_type": "code",
   "execution_count": 9,
   "id": "454788e4-1512-4690-a2ef-f1d6e6a0ae71",
   "metadata": {},
   "outputs": [],
   "source": [
    "# creating location point file for given stops"
   ]
  },
  {
   "cell_type": "code",
   "execution_count": 10,
   "id": "d8e4b67f-ad80-4fc4-9798-8cbda2fff1db",
   "metadata": {},
   "outputs": [
    {
     "name": "stdout",
     "output_type": "stream",
     "text": [
      "Requirement already satisfied: geopy in c:\\users\\arpan\\downloads\\anaconda\\setup\\lib\\site-packages (2.4.1)\n",
      "Requirement already satisfied: geographiclib<3,>=1.52 in c:\\users\\arpan\\downloads\\anaconda\\setup\\lib\\site-packages (from geopy) (2.0)\n"
     ]
    }
   ],
   "source": [
    "!pip install geopy"
   ]
  },
  {
   "cell_type": "code",
   "execution_count": 11,
   "id": "0dc69b15-818a-402c-945d-2307e9247f6d",
   "metadata": {},
   "outputs": [],
   "source": [
    "import geopy as gp\n",
    "from geopy.geocoders import Nominatim\n",
    "geolocator = Nominatim(user_agent=\"bus_route_locator\",timeout=10)\n",
    "import time"
   ]
  },
  {
   "cell_type": "code",
   "execution_count": 12,
   "id": "bcdf540a-d602-491f-99b4-3116b734d607",
   "metadata": {},
   "outputs": [],
   "source": [
    "# Management of package limit (Geoccoder TimeOut)\n",
    "from geopy.extra.rate_limiter import RateLimiter\n",
    "\n",
    "geolocator = Nominatim(user_agent=\"your_app_name\")\n",
    "geocode = RateLimiter(geolocator.geocode, min_delay_seconds=1)"
   ]
  },
  {
   "cell_type": "code",
   "execution_count": 13,
   "id": "6e2ded3c-dda8-42ea-9750-8cd4ab43631e",
   "metadata": {},
   "outputs": [],
   "source": [
    "found = []\n",
    "not_found = []"
   ]
  },
  {
   "cell_type": "code",
   "execution_count": 14,
   "id": "8a6b6797-da1f-484c-9514-4d2c9d78db7c",
   "metadata": {},
   "outputs": [],
   "source": [
    "# Function to get coordinates of a location\n",
    "def get_coordinates(location):\n",
    "    try:\n",
    "\n",
    "        location_in_dehradun = f\"{location}, Dehradun\"\n",
    "        location_data = geolocator.geocode(location_in_dehradun)\n",
    "        if location_data:\n",
    "            found.append(location)\n",
    "            return location_data.latitude, location_data.longitude\n",
    "        else:\n",
    "            not_found.append(location)\n",
    "            return None, None\n",
    "    except Exception as e:\n",
    "        print(f\"Error with location '{location}': {e}\")\n",
    "        return None, None"
   ]
  },
  {
   "cell_type": "code",
   "execution_count": 15,
   "id": "2178de14-b846-4594-aad6-fea2dd19acd5",
   "metadata": {},
   "outputs": [],
   "source": [
    "location_names = []\n",
    "latitudes = []\n",
    "longitudes = []"
   ]
  },
  {
   "cell_type": "code",
   "execution_count": null,
   "id": "c0cb4e8a-217c-4c12-a148-77fa59426ed2",
   "metadata": {},
   "outputs": [],
   "source": [
    "for location in unique_routes:\n",
    "    if location.strip():  # Ignore empty locations\n",
    "        lat, lon = get_coordinates(location)\n",
    "        location_names.append(location)\n",
    "        latitudes.append(lat)\n",
    "        longitudes.append(lon)\n",
    "     "
   ]
  },
  {
   "cell_type": "code",
   "execution_count": null,
   "id": "08f49226-5fc7-4eaa-8782-793cabf22e77",
   "metadata": {},
   "outputs": [],
   "source": [
    "df_locations = pd.DataFrame({\n",
    "    'name': location_names,\n",
    "    'Latitude': latitudes,\n",
    "    'Longitude': longitudes\n",
    "})"
   ]
  },
  {
   "cell_type": "code",
   "execution_count": null,
   "id": "b5531b27-4df8-43a6-9f59-67db4b2dcd6a",
   "metadata": {},
   "outputs": [],
   "source": [
    "df_locations.to_csv(\"../assets/location_coordinates_log.csv\")"
   ]
  },
  {
   "cell_type": "code",
   "execution_count": null,
   "id": "6063a7a8-32b1-4f84-86d7-e038da9e2d90",
   "metadata": {
    "scrolled": true
   },
   "outputs": [],
   "source": [
    "import folium"
   ]
  },
  {
   "cell_type": "code",
   "execution_count": null,
   "id": "0100b64e-8417-4249-bd84-d32145c6fc60",
   "metadata": {},
   "outputs": [],
   "source": [
    "df_loc = pd.read_csv('../assets/location_coordinates_final.csv')"
   ]
  },
  {
   "cell_type": "code",
   "execution_count": null,
   "id": "605e12f9-322a-4a67-8317-b164c4511b7d",
   "metadata": {},
   "outputs": [],
   "source": [
    "df_loc = df_loc.dropna(subset=['Latitude','Longitude'])"
   ]
  },
  {
   "cell_type": "code",
   "execution_count": null,
   "id": "03a8a391-e664-4ae2-bafa-1d0e4daf97ae",
   "metadata": {},
   "outputs": [],
   "source": [
    "count = 0\n",
    "center_lat, center_lon = df_loc['Latitude'].iloc[0], df_loc['Longitude'].iloc[0]\n",
    "m = folium.Map(location=[center_lat, center_lon], zoom_start=6)\n",
    "\n",
    "# Add markers for each location\n",
    "for index, row in df_loc.iterrows():\n",
    "    # Display location name and coordinates as popup\n",
    "    folium.Marker([row['Latitude'], row['Longitude']], popup=f\"Loc : {row['name']}\\n  \\nLat: {row['Latitude']}\\n  Lon: {row['Longitude']}\").add_to(m)\n",
    "    count = count+1\n"
   ]
  },
  {
   "cell_type": "code",
   "execution_count": null,
   "id": "275a8387-8135-49f4-a5e2-9d0def30b136",
   "metadata": {},
   "outputs": [],
   "source": [
    "print(f\"Total locations plotted : {count}\")"
   ]
  },
  {
   "cell_type": "code",
   "execution_count": null,
   "id": "2338c2ad-c96c-4918-81d0-0233c109fa4b",
   "metadata": {
    "scrolled": true
   },
   "outputs": [],
   "source": [
    "# Display the map\n",
    "m"
   ]
  }
 ],
 "metadata": {
  "kernelspec": {
   "display_name": "Python 3 (ipykernel)",
   "language": "python",
   "name": "python3"
  },
  "language_info": {
   "codemirror_mode": {
    "name": "ipython",
    "version": 3
   },
   "file_extension": ".py",
   "mimetype": "text/x-python",
   "name": "python",
   "nbconvert_exporter": "python",
   "pygments_lexer": "ipython3",
   "version": "3.12.7"
  }
 },
 "nbformat": 4,
 "nbformat_minor": 5
}
